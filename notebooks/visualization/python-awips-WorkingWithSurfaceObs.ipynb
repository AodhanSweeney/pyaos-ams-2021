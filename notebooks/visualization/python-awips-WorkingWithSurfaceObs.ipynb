{
 "cells": [
  {
   "cell_type": "markdown",
   "metadata": {},
   "source": [
    "# Working with Surface Obs\n",
    "\n",
    "This notebook creates a colored temperature plot for North America using AWIPS METAR observations (datatype *obs*), similar to existing products in GEMPAK and CAVE.  \n",
    "We will be accessing the data through an EDEX server and limiting what's returned based geographic extend, and specific parameters we're interested in.  We'll also be creating a color mapping and colorizing the surface data based on our mapping.  Finally we use matplotlib to plot and display the output."
   ]
  },
  {
   "cell_type": "markdown",
   "metadata": {},
   "source": [
    "---\n",
    "## Import necessary packages\n",
    "\n",
    "In this example we'll need a few packages to assist us when working with the data.  So, the first thing we need to do is set our imports accordingly."
   ]
  },
  {
   "cell_type": "code",
   "execution_count": null,
   "metadata": {},
   "outputs": [],
   "source": [
    "from awips.dataaccess import DataAccessLayer\n",
    "from dynamicserialize.dstypes.com.raytheon.uf.common.time import TimeRange\n",
    "from datetime import datetime, timedelta\n",
    "import numpy as np\n",
    "import cartopy.crs as ccrs\n",
    "import warnings\n",
    "import matplotlib.pyplot as plt\n",
    "from shapely.geometry import Polygon\n",
    "from metpy.plots import StationPlot"
   ]
  },
  {
   "cell_type": "markdown",
   "metadata": {},
   "source": [
    "---\n",
    "## Define our 'request' object\n",
    "\n",
    "If you read through the \"python-awips - How to Access Data\" training, you will know that we need to set an EDEX url to access our server, and then we create a data request.  In the previous training, we simply used the 'datatype' to define our request, but in this example we will also use an 'envelope.  Feel free to [take a look at the documentation](http://unidata.github.io/python-awips/api/DataAccessLayer.html#awips.dataaccess.DataAccessLayer.newDataRequest) for more information about what arguments can passed through when creating a new data request.\n",
    "\n",
    "Once the request is made, we'll also restrict it by setting the parameters of interest, in this case just: \"temperature\", \"longitute\", \"latitude\", and \"stationName\"."
   ]
  },
  {
   "cell_type": "code",
   "execution_count": null,
   "metadata": {},
   "outputs": [],
   "source": [
    "# CONUS bounding box and envelope geometry\n",
    "bbox=[-120, -70, 15, 55]\n",
    "envelope = Polygon([(bbox[0],bbox[2]),(bbox[0],bbox[3]),\n",
    "                    (bbox[1], bbox[3]),(bbox[1],bbox[2]),\n",
    "                    (bbox[0],bbox[2])])\n",
    "\n",
    "# New obs request\n",
    "edexServer = \"edex-cloud.unidata.ucar.edu\"\n",
    "DataAccessLayer.changeEDEXHost(edexServer)\n",
    "request = DataAccessLayer.newDataRequest(\"obs\", envelope=envelope)\n",
    "\n",
    "# Set the parameters we care about\n",
    "params = [\"temperature\", \"longitude\", \"latitude\", \"stationName\"]\n",
    "request.setParameters(*(params))\n",
    "\n",
    "# Take a look at our request\n",
    "print(request)"
   ]
  },
  {
   "cell_type": "markdown",
   "metadata": {},
   "source": [
    "---\n",
    "## Limit results based on time\n",
    "\n",
    "Let's narrow down our results by creating a time window for the most recent 15 minutes.\n",
    "> Note: You can play around with changing the `time_limit` to see how many observations you get back."
   ]
  },
  {
   "cell_type": "code",
   "execution_count": null,
   "metadata": {},
   "outputs": [],
   "source": [
    "# Get records from the last 15 minutes\n",
    "time_limit = 15\n",
    "recentDateTime = datetime.utcnow() - timedelta(minutes = time_limit)\n",
    "start = recentDateTime.strftime('%Y-%m-%d %H:%M:%S')\n",
    "end = datetime.utcnow().strftime('%Y-%m-%d %H:%M:%S')\n",
    "\n",
    "beginRange = datetime.strptime( start , \"%Y-%m-%d %H:%M:%S\")\n",
    "endRange = datetime.strptime( end , \"%Y-%m-%d %H:%M:%S\")\n",
    "timerange = TimeRange(beginRange, endRange)"
   ]
  },
  {
   "cell_type": "markdown",
   "metadata": {},
   "source": [
    "---\n",
    "## Get the data response\n",
    "\n",
    "Now we're going to access the data using [***DataAccessLayer.getGeometryData()***](http://unidata.github.io/python-awips/api/DataAccessLayer.html#awips.dataaccess.DataAccessLayer.getGeometryData) and passing in the time range we just defined."
   ]
  },
  {
   "cell_type": "code",
   "execution_count": null,
   "metadata": {},
   "outputs": [],
   "source": [
    "# Get response\n",
    "response = DataAccessLayer.getGeometryData(request,timerange)\n",
    "# Use the response to get the Metar data\n",
    "obs = DataAccessLayer.getMetarObs(response)\n",
    "\n",
    "# See how much data we got\n",
    "print(\"Found \" + str(len(response)) + \" total records\")\n",
    "print(\"Using \" + str(len(obs['temperature'])) + \" temperature records\")"
   ]
  },
  {
   "cell_type": "markdown",
   "metadata": {},
   "source": [
    "---\n",
    "## Define color thresholds\n",
    "\n",
    "We're going to be plotting the station temperature values on a map of the US, and we'll colorize them based on their value.  So, here we define a dictionary defining temperature ranges and their corresponding colors."
   ]
  },
  {
   "cell_type": "code",
   "execution_count": null,
   "metadata": {},
   "outputs": [],
   "source": [
    "# A list of colors for the temperatures\n",
    "colors = ['purple', 'c', 'royalblue', 'darkgreen', 'green', 'y', 'orange', 'r']\n",
    "\n",
    "# A list of the temperature values defining the thresholds\n",
    "#  Note: these need to be the same length!\n",
    "levels = [0, 10, 20, 30, 40, 50, 60, 70]"
   ]
  },
  {
   "cell_type": "markdown",
   "metadata": {},
   "source": [
    "---\n",
    "## Create a plot to draw on\n",
    "\n",
    "Here we create a plot use [***matplotlib.pyplot***](https://matplotlib.org/3.3.3/api/_as_gen/matplotlib.pyplot.html) (see the imports at the top of this notebook for reference), and we set our extend using the boundaries we defined in the first second code cell of this notebook.  We also add the coastlines and a title to the plot."
   ]
  },
  {
   "cell_type": "code",
   "execution_count": null,
   "metadata": {
    "scrolled": true
   },
   "outputs": [],
   "source": [
    "# Create a plot to draw on\n",
    "fig, ax = plt.subplots(figsize=(16,12),subplot_kw=dict(projection=ccrs.LambertConformal()))\n",
    "\n",
    "# Use the same bounding box we used on the data request\n",
    "ax.set_extent(bbox)\n",
    "\n",
    "# Draw the coastlines \n",
    "ax.coastlines(resolution='50m')\n",
    "\n",
    "# Set a title\n",
    "ax.set_title(str(response[-1].getDataTime()) + \" | Surface Temps (degF) | \" + edexServer)"
   ]
  },
  {
   "cell_type": "markdown",
   "metadata": {},
   "source": [
    "---\n",
    "## Colorize and draw the temperatures\n"
   ]
  },
  {
   "cell_type": "code",
   "execution_count": null,
   "metadata": {},
   "outputs": [],
   "source": [
    "# Suppress nan masking warnings\n",
    "warnings.filterwarnings(\"ignore\",category =RuntimeWarning)\n",
    "\n",
    "# get all temperature values and convert them from C to F\n",
    "tair = np.array(obs['temperature'], dtype=float)\n",
    "tair[tair == -9999.0] = 'nan'\n",
    "tair = (tair*1.8)+32\n",
    "\n",
    "# get all the lats and lons for all the observations\n",
    "lats = obs['latitude']\n",
    "lons = obs['longitude']\n",
    "\n",
    "# cycle through each temperature range and plot the corresponding data as appropriate\n",
    "for i, temp in enumerate(levels):\n",
    "    # create a new temperature value array\n",
    "    subtair = tair.copy()\n",
    "\n",
    "    # pair down the temperature values to a subset\n",
    "    # if this is the maximum value, then find values greater than it\n",
    "    if temp==max(levels):\n",
    "        subtair[(subtair < temp)] = 'nan'\n",
    "    # if this is the minimum value, then find values less than or equal to it\n",
    "    elif temp==min(levels):\n",
    "        subtair[(subtair >= temp)] = 'nan'\n",
    "    # otherwise find values between it and the next value\n",
    "    else:\n",
    "        subtair[(subtair < temp)] = 'nan'\n",
    "        subtair[(subtair >= levels[i+1])] = 'nan'\n",
    "\n",
    "    # add these stations and their color to the stationplots\n",
    "    stationplot = StationPlot(ax, lons, lats, transform=ccrs.PlateCarree(), fontsize=14)\n",
    "    stationplot.plot_parameter('C', subtair, color=colors[i])\n",
    "\n",
    "# Display the plot with the colorized temperatures\n",
    "fig"
   ]
  }
 ],
 "metadata": {
  "kernelspec": {
   "display_name": "Python 3",
   "language": "python",
   "name": "python3"
  },
  "language_info": {
   "codemirror_mode": {
    "name": "ipython",
    "version": 3
   },
   "file_extension": ".py",
   "mimetype": "text/x-python",
   "name": "python",
   "nbconvert_exporter": "python",
   "pygments_lexer": "ipython3",
   "version": "3.8.6"
  }
 },
 "nbformat": 4,
 "nbformat_minor": 1
}
